{
 "cells": [
  {
   "cell_type": "markdown",
   "id": "25d7736c-ba17-4aff-b6bb-66eba20fbf4e",
   "metadata": {},
   "source": [
    "# Lab | List, Dict and Set Comprehension"
   ]
  },
  {
   "cell_type": "markdown",
   "id": "7dd3cbde-675a-4b81-92c3-f728846dbe06",
   "metadata": {},
   "source": [
    "## Exercise: Managing Customer Orders Optimized with Comprehension"
   ]
  },
  {
   "cell_type": "markdown",
   "id": "5d500160-2fb7-4777-b5e4-09d45ebaf328",
   "metadata": {},
   "source": [
    "In the previous exercise, you developed a program to manage customer orders and inventory. Now, let's take it a step further and incorporate comprehension into your code.\n",
    "\n",
    "Follow the steps below to complete the exercise:\n",
    "\n",
    "1. Review your code from the previous exercise and identify areas where you can apply comprehension to simplify and streamline your code. \n",
    "\n",
    "    - *Hint: Apply it to initialize inventory, updating the inventory and printing the updated inventory.*\n",
    "    \n",
    "    - For example, in initializing the inventory, we could have:\n",
    "    \n",
    "        ```python\n",
    "        def initialize_inventory(products):\n",
    "            inventory = {product: int(input(f\"Enter the quantity of {product}s available: \")) for product in products}\n",
    "            return inventory\n",
    "\n",
    "        ```\n",
    "<br>\n",
    "    \n",
    "    \n",
    "2. Modify the function get_customer_orders so it prompts the user to enter the number of customer orders and gathers the product names using a loop and user input. Use comprehension.\n",
    "\n",
    "3. Add a new function to calculate the total price of the customer order. For each product in customer_orders, prompt the user to enter the price of that product. Use comprehension to calculate the total price. Note: assume that the user can only have 1 unit of each product.\n",
    "\n",
    "4. Modify the update_inventory function to remove the product from the inventory if its quantity becomes zero after fulfilling the customer orders. Use comprehension to filter out the products with a quantity of zero from the inventory.\n",
    "\n",
    "5. Print the total price of the customer order.\n",
    "\n",
    "Your code should produce output similar to the following:\n",
    "\n",
    "```python\n",
    "Enter the quantity of t-shirts available:  5\n",
    "Enter the quantity of mugs available:  4\n",
    "Enter the quantity of hats available:  3\n",
    "Enter the quantity of books available:  2\n",
    "Enter the quantity of keychains available:  1\n",
    "Enter the number of customer orders:  2\n",
    "Enter the name of a product that a customer wants to order:  hat\n",
    "Enter the name of a product that a customer wants to order:  keychain\n",
    "\n",
    "Order Statistics:\n",
    "Total Products Ordered: 2\n",
    "Percentage of Unique Products Ordered: 40.0\n",
    "\n",
    "Updated Inventory:\n",
    "t-shirt: 5\n",
    "mug: 4\n",
    "hat: 2\n",
    "book: 2\n",
    "Enter the price of keychain:  5\n",
    "Enter the price of hat:  10\n",
    "Total Price: 15.0\n",
    "\n",
    "```\n"
   ]
  },
  {
   "cell_type": "code",
   "execution_count": 6,
   "id": "be7c4c55",
   "metadata": {},
   "outputs": [],
   "source": [
    "products = [\"t-shirt\", \"mug\", \"hat\", \"book\", \"keychain\"]"
   ]
  },
  {
   "cell_type": "code",
   "execution_count": 7,
   "id": "f23f64c9",
   "metadata": {},
   "outputs": [],
   "source": [
    "def initialize_inventory(products):\n",
    "    return {product: int(input(f\"Cantidad de {product}: \")) for product in products}\n"
   ]
  },
  {
   "cell_type": "code",
   "execution_count": 8,
   "id": "d83e9905",
   "metadata": {},
   "outputs": [
    {
     "name": "stdout",
     "output_type": "stream",
     "text": [
      "{'t-shirt': 5, 'mug': 4, 'hat': 3, 'book': 2, 'keychain': 1}\n"
     ]
    }
   ],
   "source": [
    "inventory = initialize_inventory(products)\n",
    "print(inventory)"
   ]
  },
  {
   "cell_type": "code",
   "execution_count": 9,
   "id": "3fa9fb00",
   "metadata": {},
   "outputs": [],
   "source": [
    "# Defino la función\n",
    "def get_customer_orders():\n",
    "    # La lista de productos\n",
    "    products = [\"t-shirt\", \"mug\", \"hat\", \"book\", \"keychain\"]\n",
    "    # Muestra la lista seguida solo por comas\n",
    "    print(\"Productos disponibles:\", \", \".join(products))\n",
    "    # Pregunto cuántos productos quiere el cliente\n",
    "    num_orders = int(input(\"¿Cuántos productos desea?: \"))\n",
    "    \n",
    "    return {\n",
    "        input(\"Elige un producto (t-shirt, mug, hat, book, keychain): \")\n",
    "        for _ in range(num_orders)\n",
    "    \n",
    "    }\n"
   ]
  },
  {
   "cell_type": "code",
   "execution_count": 10,
   "id": "f9326767",
   "metadata": {},
   "outputs": [
    {
     "name": "stdout",
     "output_type": "stream",
     "text": [
      "Productos disponibles: t-shirt, mug, hat, book, keychain\n",
      "{'hat', 'keychain'}\n"
     ]
    }
   ],
   "source": [
    "customer_orders = get_customer_orders()\n",
    "print(customer_orders)"
   ]
  },
  {
   "cell_type": "code",
   "execution_count": 11,
   "id": "675a8db6",
   "metadata": {},
   "outputs": [],
   "source": [
    "#defino la funcion\n",
    "def update_inventory(customer_orders, inventory):\n",
    "    #actualizo el inventario para que al pedir se reste 1\n",
    "    inventory = {product: quantity - 1 for product, quantity in inventory.items()\n",
    "                 if product not in customer_orders or quantity - 1 > 0}\n",
    "    return inventory"
   ]
  },
  {
   "cell_type": "code",
   "execution_count": 12,
   "id": "0cb8dd2a",
   "metadata": {},
   "outputs": [
    {
     "name": "stdout",
     "output_type": "stream",
     "text": [
      "Inventario actualizado: {'t-shirt': 4, 'mug': 3, 'hat': 2, 'book': 1}\n"
     ]
    }
   ],
   "source": [
    "Inventory = update_inventory (customer_orders, inventory)\n",
    "print(\"Inventario actualizado:\", Inventory)"
   ]
  },
  {
   "cell_type": "code",
   "execution_count": 13,
   "id": "6c800b21",
   "metadata": {},
   "outputs": [],
   "source": [
    "#defino funcion para calcular el precio total\n",
    "def calculate_total_price(customer_orders):\n",
    "    prices = {product: float(input(f\"Precio de {product}: \")) for product in customer_orders}\n",
    "    return sum(prices.values())\n"
   ]
  },
  {
   "cell_type": "code",
   "execution_count": 14,
   "id": "cf30c585",
   "metadata": {},
   "outputs": [
    {
     "name": "stdout",
     "output_type": "stream",
     "text": [
      "Tienes que pagarme esto: 15.0\n"
     ]
    }
   ],
   "source": [
    "total = calculate_total_price (customer_orders)\n",
    "print(f\"Tienes que pagarme esto: {total}\")"
   ]
  },
  {
   "cell_type": "code",
   "execution_count": 15,
   "id": "9eaba610",
   "metadata": {},
   "outputs": [],
   "source": [
    "def calculate_order_statistics(customer_orders, products):\n",
    "    total_ordered = len(customer_orders)\n",
    "    percentage = (total_ordered / len(products)) * 100\n",
    "    return total_ordered, percentage\n"
   ]
  },
  {
   "cell_type": "code",
   "execution_count": 16,
   "id": "b03687a2",
   "metadata": {},
   "outputs": [
    {
     "name": "stdout",
     "output_type": "stream",
     "text": [
      "Estadísticas del pedido: (2, 40.0)\n"
     ]
    }
   ],
   "source": [
    "order_statistics = calculate_order_statistics (customer_orders, products)\n",
    "print(\"Estadísticas del pedido:\", order_statistics)"
   ]
  }
 ],
 "metadata": {
  "kernelspec": {
   "display_name": "Python 3",
   "language": "python",
   "name": "python3"
  },
  "language_info": {
   "codemirror_mode": {
    "name": "ipython",
    "version": 3
   },
   "file_extension": ".py",
   "mimetype": "text/x-python",
   "name": "python",
   "nbconvert_exporter": "python",
   "pygments_lexer": "ipython3",
   "version": "3.12.1"
  }
 },
 "nbformat": 4,
 "nbformat_minor": 5
}
